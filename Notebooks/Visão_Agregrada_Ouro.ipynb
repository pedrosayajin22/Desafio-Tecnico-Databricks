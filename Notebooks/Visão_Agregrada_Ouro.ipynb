{
 "cells": [
  {
   "cell_type": "markdown",
   "metadata": {
    "application/vnd.databricks.v1+cell": {
     "cellMetadata": {},
     "inputWidgets": {},
     "nuid": "767f1eb7-6cca-4adc-a6a7-198ec0c67125",
     "showTitle": false,
     "tableResultSettingsMap": {},
     "title": ""
    }
   },
   "source": [
    "# 📌 Documentação Resumida - Camada Ouro\n",
    "\n",
    "## 📖 Importação de Bibliotecas\n",
    "Carrega funções do PySpark para **agregação e ordenação de dados** e importa `DeltaTable` para **operações de merge** no Delta Lake.\n",
    "\n",
    "## 📖 Leitura dos Dados da Camada Prata\n",
    "Carrega os dados transformados da **Camada Prata** para processamento e agregação.\n",
    "\n",
    "## 📖 Criação e Atualização da Tabela Ouro\n",
    "- **Verifica se a tabela ouro existe** no Delta Lake.\n",
    "- Se **não existir**, cria a tabela.\n",
    "- Se **já existir**, realiza um **merge incremental**, garantindo que **novos registros sejam inseridos** e **dados existentes sejam atualizados**.\n",
    "\n",
    "## 📖 Agregação dos Dados\n",
    "- **Agrupa os dados** por `nm_tipo_cervejaria` e `Localizacao`.\n",
    "- Calcula a **quantidade de cervejarias por tipo e local**.\n",
    "- Ordena os resultados para facilitar análises.\n",
    "\n",
    "## 📖 Salvamento dos Dados na Camada Ouro\n",
    "- Salva os **dados agregados** na Camada Ouro em formato **Delta Lake**.\n",
    "\n",
    "## 📖 Exibição dos Dados\n",
    "Exibe a tabela processada com **número total de cervejarias por tipo e localização**.\n"
   ]
  },
  {
   "cell_type": "code",
   "execution_count": 0,
   "metadata": {
    "application/vnd.databricks.v1+cell": {
     "cellMetadata": {
      "byteLimit": 2048000,
      "rowLimit": 10000
     },
     "inputWidgets": {},
     "nuid": "7e7b0cc3-0bad-4a61-b456-664196e9fff6",
     "showTitle": false,
     "tableResultSettingsMap": {},
     "title": ""
    }
   },
   "outputs": [],
   "source": [
    "from pyspark.sql.functions import count, desc\n",
    "from delta.tables import DeltaTable\n"
   ]
  },
  {
   "cell_type": "code",
   "execution_count": 0,
   "metadata": {
    "application/vnd.databricks.v1+cell": {
     "cellMetadata": {
      "byteLimit": 2048000,
      "rowLimit": 10000
     },
     "inputWidgets": {},
     "nuid": "df7d2017-d1ce-43e3-9a68-6926bce3f8b0",
     "showTitle": false,
     "tableResultSettingsMap": {},
     "title": ""
    }
   },
   "outputs": [],
   "source": [
    "%run \"./Variaveis\""
   ]
  },
  {
   "cell_type": "code",
   "execution_count": 0,
   "metadata": {
    "application/vnd.databricks.v1+cell": {
     "cellMetadata": {
      "byteLimit": 2048000,
      "rowLimit": 10000
     },
     "inputWidgets": {},
     "nuid": "6ca9b2eb-178d-4972-806e-77c3f32e18eb",
     "showTitle": false,
     "tableResultSettingsMap": {},
     "title": ""
    }
   },
   "outputs": [],
   "source": [
    "df = spark.read.format(\"delta\").load(f\"{camada_prata}cervejarias\")\n",
    "df.printSchema()"
   ]
  },
  {
   "cell_type": "code",
   "execution_count": 0,
   "metadata": {
    "application/vnd.databricks.v1+cell": {
     "cellMetadata": {
      "byteLimit": 2048000,
      "rowLimit": 10000
     },
     "inputWidgets": {},
     "nuid": "7e0d35c4-493d-4259-b4d6-25cce9b3a869",
     "showTitle": false,
     "tableResultSettingsMap": {},
     "title": ""
    }
   },
   "outputs": [],
   "source": [
    "df_reduzido = df.select('id_cervejaria','nm_cervejaria','nm_tipo_cervejaria','Localizacao')\n"
   ]
  },
  {
   "cell_type": "code",
   "execution_count": 0,
   "metadata": {
    "application/vnd.databricks.v1+cell": {
     "cellMetadata": {
      "byteLimit": 2048000,
      "rowLimit": 10000
     },
     "inputWidgets": {},
     "nuid": "ea61ae31-0219-44f2-9b97-e779ebc48d4c",
     "showTitle": false,
     "tableResultSettingsMap": {},
     "title": ""
    }
   },
   "outputs": [],
   "source": [
    "caminho_ouro = f\"{camada_ouro}cervejarias\"\n",
    "\n",
    "\n",
    "if not DeltaTable.isDeltaTable(spark, caminho_ouro):\n",
    "    print(\"criando a tabela ouro\")\n",
    "    df_reduzido.write.format(\"delta\").mode(\"overwrite\").save(caminho_ouro)\n",
    "\n",
    "delta_destino = DeltaTable.forPath(spark, caminho_ouro)\n",
    "delta_destino.optimize()\n",
    "\n",
    "delta_destino.alias('destino').merge(\n",
    "    df_reduzido.alias(\"novo\"),\n",
    "    \"destino.id_cervejaria = novo.id_cervejaria\"\n",
    ").whenMatchedUpdate(set={\n",
    "    \"nm_cervejaria\": \"novo.nm_cervejaria\",\n",
    "    \"nm_tipo_cervejaria\": \"novo.nm_tipo_cervejaria\",\n",
    "    \"Localizacao\": \"novo.Localizacao\",\n",
    "}).whenNotMatchedInsert(values={\n",
    "    \"id_cervejaria\": \"novo.id_cervejaria\",\n",
    "    \"nm_cervejaria\": \"novo.nm_cervejaria\",\n",
    "    \"nm_tipo_cervejaria\": \"novo.nm_tipo_cervejaria\",\n",
    "    \"Localizacao\": \"novo.Localizacao\",\n",
    "}).execute()\n"
   ]
  },
  {
   "cell_type": "code",
   "execution_count": 0,
   "metadata": {
    "application/vnd.databricks.v1+cell": {
     "cellMetadata": {
      "byteLimit": 2048000,
      "rowLimit": 10000
     },
     "inputWidgets": {},
     "nuid": "0428da3a-172a-4925-a027-2a146edf09ab",
     "showTitle": false,
     "tableResultSettingsMap": {
      "0": {
       "filterBlob": "{\"filterGroups\":[],\"syncTimestamp\":1740752785702}",
       "tableResultIndex": 0
      }
     },
     "title": ""
    }
   },
   "outputs": [],
   "source": [
    "df_ouro = spark.read.format(\"delta\").load(caminho_ouro)\n"
   ]
  },
  {
   "cell_type": "code",
   "execution_count": 0,
   "metadata": {
    "application/vnd.databricks.v1+cell": {
     "cellMetadata": {
      "byteLimit": 2048000,
      "rowLimit": 10000
     },
     "inputWidgets": {},
     "nuid": "632ee747-aec6-4831-82b4-a99bdfa94011",
     "showTitle": false,
     "tableResultSettingsMap": {},
     "title": ""
    }
   },
   "outputs": [],
   "source": [
    "df_ouro = df_ouro.groupBy(\"nm_tipo_cervejaria\",\"Localizacao\").agg(count('nm_cervejaria').alias('count')).orderBy('nm_tipo_cervejaria',desc('count'))\n",
    "df_ouro = df_ouro.withColumnRenamed('count',\"Total_Empresas_por_Localizacao\")\n"
   ]
  },
  {
   "cell_type": "code",
   "execution_count": 0,
   "metadata": {
    "application/vnd.databricks.v1+cell": {
     "cellMetadata": {
      "byteLimit": 2048000,
      "rowLimit": 10000
     },
     "inputWidgets": {},
     "nuid": "b4a49128-7af8-4975-85e8-2709d80c3f73",
     "showTitle": false,
     "tableResultSettingsMap": {},
     "title": ""
    }
   },
   "outputs": [],
   "source": [
    "df_ouro.write.format(\"delta\").mode(\"overwrite\").save(f\"{camada_ouro}cervejarias_agregradas\")"
   ]
  },
  {
   "cell_type": "code",
   "execution_count": 0,
   "metadata": {
    "application/vnd.databricks.v1+cell": {
     "cellMetadata": {
      "byteLimit": 2048000,
      "rowLimit": 10000
     },
     "inputWidgets": {},
     "nuid": "0564cc6f-15e1-4c79-b7b3-a8898820e10e",
     "showTitle": false,
     "tableResultSettingsMap": {},
     "title": ""
    }
   },
   "outputs": [],
   "source": [
    "display(df_ouro)"
   ]
  }
 ],
 "metadata": {
  "application/vnd.databricks.v1+notebook": {
   "computePreferences": null,
   "dashboards": [],
   "environmentMetadata": {
    "base_environment": "",
    "environment_version": "2"
   },
   "language": "python",
   "notebookMetadata": {
    "pythonIndentUnit": 4
   },
   "notebookName": "Visão_Agregrada_Ouro",
   "widgets": {}
  },
  "language_info": {
   "name": "python"
  }
 },
 "nbformat": 4,
 "nbformat_minor": 0
}
