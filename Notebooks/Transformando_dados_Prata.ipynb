{
 "cells": [
  {
   "cell_type": "markdown",
   "metadata": {
    "application/vnd.databricks.v1+cell": {
     "cellMetadata": {},
     "inputWidgets": {},
     "nuid": "61ef22d5-7bcb-4f1e-b9f1-a30e0b5c3aef",
     "showTitle": false,
     "tableResultSettingsMap": {},
     "title": ""
    }
   },
   "source": [
    "<small style=\"font-size:10px;\">\n",
    "\n",
    "# 📌 **Camada Prata**  \n",
    "\n",
    "### **🔹 1️⃣ Importação de Bibliotecas**  \n",
    "Carrega funções do **PySpark** para tratamento de strings, limpeza de dados e manipulação de colunas.  \n",
    "\n",
    "### **🔹 2️⃣ Execução de Variáveis Globais**  \n",
    "Executa o notebook `Variaveis`, que contém os caminhos do Data Lake.  \n",
    "\n",
    "### **🔹 3️⃣ Leitura dos Dados da Camada Bronze**  \n",
    "Carrega os dados brutos armazenados na **Camada Bronze (Delta Lake)** e exibe o schema.  \n",
    "\n",
    "### **🔹 4️⃣ Tratamento de Valores Nulos**  \n",
    "Substitui valores ausentes por padrões como `\"Desconhecido\"`, `\"0.0\"` e `\"Sem_Site\"`.  \n",
    "\n",
    "### **🔹 5️⃣ Adição da Origem dos Dados**  \n",
    "Cria a coluna `\"fonte_dados\"` para indicar que os dados vêm da **API Open Brewery DB**.  \n",
    "\n",
    "### **🔹 6️⃣ Remoção de Colunas Desnecessárias**  \n",
    "Exclui **`nm_estado_repetido` e `nm_rua`** por não serem relevantes.  \n",
    "\n",
    "### **🔹 7️⃣ Criação de Novas Colunas**  \n",
    "- `\"Possui_Site?\"` → **Identifica se há um site cadastrado**.  \n",
    "- `\"Esta_Ativa?\"` → **Indica se a cervejaria está em operação**.  \n",
    "- `\"Localizacao\"` → **Concatena país, estado e cidade para facilitar consultas**.  \n",
    "\n",
    "### **🔹 8️⃣ Remoção de Duplicatas**  \n",
    "Remove registros **com o mesmo nome, localização, endereço e CEP**.  \n",
    "\n",
    "### **🔹 9️⃣ Padronização de CEP**  \n",
    "Remove **traços e espaços** para manter um formato uniforme.  \n",
    "\n",
    "### **🔹 🔟 Padronização de Nomes**  \n",
    "Ajusta `\"nm_cervejaria\"` para **inicial maiúscula + remoção de espaços extras**.  \n",
    "\n",
    "### **🔹 1️⃣1️⃣ Reordenação de Colunas**  \n",
    "Organiza as colunas em uma estrutura **mais intuitiva** para consumo.  \n",
    "\n",
    "### **🔹 1️⃣2️⃣ Particionamento e Salvamento**  \n",
    "Os dados são **reparticionados por `Localizacao`** e salvos na **Camada Prata** em **Delta Lake** para otimização.  \n",
    "\n",
    "---\n",
    "\n",
    "✅ **Agora os dados estão limpos, padronizados e otimizados para a Camada Ouro!** 🚀  \n",
    "\n",
    "</small>\n"
   ]
  },
  {
   "cell_type": "code",
   "execution_count": 0,
   "metadata": {
    "application/vnd.databricks.v1+cell": {
     "cellMetadata": {
      "byteLimit": 2048000,
      "rowLimit": 10000
     },
     "inputWidgets": {},
     "nuid": "b82e3827-e100-4644-9f54-f6e6f752e193",
     "showTitle": false,
     "tableResultSettingsMap": {},
     "title": ""
    }
   },
   "outputs": [],
   "source": [
    "from pyspark.sql.functions import when, concat, lit,regexp_replace,trim,initcap"
   ]
  },
  {
   "cell_type": "code",
   "execution_count": 0,
   "metadata": {
    "application/vnd.databricks.v1+cell": {
     "cellMetadata": {
      "byteLimit": 2048000,
      "rowLimit": 10000
     },
     "inputWidgets": {},
     "nuid": "04cfc6ab-f57f-4395-b9a9-69c03c3d5088",
     "showTitle": false,
     "tableResultSettingsMap": {},
     "title": ""
    }
   },
   "outputs": [],
   "source": [
    "%run \"./Variaveis\"  "
   ]
  },
  {
   "cell_type": "code",
   "execution_count": 0,
   "metadata": {
    "application/vnd.databricks.v1+cell": {
     "cellMetadata": {
      "byteLimit": 2048000,
      "rowLimit": 10000
     },
     "inputWidgets": {},
     "nuid": "933f8eb3-4d23-4c83-a87a-ac40fd06dd05",
     "showTitle": false,
     "tableResultSettingsMap": {},
     "title": ""
    }
   },
   "outputs": [],
   "source": [
    "df = spark.read.format(\"delta\").load(f\"{camada_bronze}cervejarias\")\n",
    "display(df)\n",
    "df.printSchema()"
   ]
  },
  {
   "cell_type": "code",
   "execution_count": 0,
   "metadata": {
    "application/vnd.databricks.v1+cell": {
     "cellMetadata": {
      "byteLimit": 2048000,
      "rowLimit": 10000
     },
     "inputWidgets": {},
     "nuid": "e356966e-b634-4405-81b3-0f340d60bdd5",
     "showTitle": false,
     "tableResultSettingsMap": {},
     "title": ""
    }
   },
   "outputs": [],
   "source": [
    "df = df.fillna({\n",
    "    \"ds_endereco_1\":\"Desconhecido\",\n",
    "    \"ds_endereco_2\":\"Desconhecido\",\n",
    "    \"ds_endereco_3\":\"Desconhecido\",\n",
    "    \"nr_longitude\" :\"0.0\",\n",
    "    \"nr_latitude\"  :\"0.0\",\n",
    "    \"nr_telefone\" :\"Desconhecido\",\n",
    "    \"ds_site_web\" : \"Sem_Site\",\n",
    "})"
   ]
  },
  {
   "cell_type": "code",
   "execution_count": 0,
   "metadata": {
    "application/vnd.databricks.v1+cell": {
     "cellMetadata": {
      "byteLimit": 2048000,
      "rowLimit": 10000
     },
     "inputWidgets": {},
     "nuid": "8c30f6d6-5dad-454b-8553-1813b3e62a36",
     "showTitle": false,
     "tableResultSettingsMap": {},
     "title": ""
    }
   },
   "outputs": [],
   "source": [
    "df = df.withColumn(\"fonte_dados\", lit(\"API Open Brewery DB\"))\n"
   ]
  },
  {
   "cell_type": "code",
   "execution_count": 0,
   "metadata": {
    "application/vnd.databricks.v1+cell": {
     "cellMetadata": {
      "byteLimit": 2048000,
      "rowLimit": 10000
     },
     "inputWidgets": {},
     "nuid": "90ae1e72-1adf-4b9a-8ec5-1c684af56bb2",
     "showTitle": false,
     "tableResultSettingsMap": {},
     "title": ""
    }
   },
   "outputs": [],
   "source": [
    "df_dropColumn = df.drop(\"nm_estado_repetido\", \"nm_rua\")"
   ]
  },
  {
   "cell_type": "code",
   "execution_count": 0,
   "metadata": {
    "application/vnd.databricks.v1+cell": {
     "cellMetadata": {
      "byteLimit": 2048000,
      "rowLimit": 10000
     },
     "inputWidgets": {},
     "nuid": "1181f19a-4947-4027-ab4d-803b7965c06e",
     "showTitle": false,
     "tableResultSettingsMap": {},
     "title": ""
    }
   },
   "outputs": [],
   "source": [
    "df_possui_site = df_dropColumn.withColumn(\n",
    "    \"Possui_Site?\", when(df_dropColumn.ds_site_web == \"Sem_Site\", False).otherwise(True)\n",
    ")"
   ]
  },
  {
   "cell_type": "code",
   "execution_count": 0,
   "metadata": {
    "application/vnd.databricks.v1+cell": {
     "cellMetadata": {
      "byteLimit": 2048000,
      "rowLimit": 10000
     },
     "inputWidgets": {},
     "nuid": "79fe10fc-5320-4f3e-b677-9337ba3fa742",
     "showTitle": false,
     "tableResultSettingsMap": {},
     "title": ""
    }
   },
   "outputs": [],
   "source": [
    "df_esta_ativa = df_possui_site.withColumn(\n",
    "    \"Esta_Ativa?\",\n",
    "    when(df_possui_site.nm_tipo_cervejaria == \"closed\", False).otherwise(True),\n",
    ")"
   ]
  },
  {
   "cell_type": "code",
   "execution_count": 0,
   "metadata": {
    "application/vnd.databricks.v1+cell": {
     "cellMetadata": {
      "byteLimit": 2048000,
      "rowLimit": 10000
     },
     "inputWidgets": {},
     "nuid": "3f27491f-966f-468b-816e-7e96fa72e364",
     "showTitle": false,
     "tableResultSettingsMap": {},
     "title": ""
    }
   },
   "outputs": [],
   "source": [
    "df_localizacao = df_esta_ativa.withColumn(\"Localizacao\",concat(\"nm_pais\",lit(\" - \"),\"nm_estado\",lit(\" - \"),\"nm_cidade\"))"
   ]
  },
  {
   "cell_type": "code",
   "execution_count": 0,
   "metadata": {
    "application/vnd.databricks.v1+cell": {
     "cellMetadata": {
      "byteLimit": 2048000,
      "rowLimit": 10000
     },
     "inputWidgets": {},
     "nuid": "81cfd003-e3a4-4954-ab03-85e7068ba6b2",
     "showTitle": false,
     "tableResultSettingsMap": {},
     "title": ""
    }
   },
   "outputs": [],
   "source": [
    "df_localizacao = df_localizacao.dropDuplicates([\"nm_cervejaria\",\"Localizacao\",\"cd_cep\",\"ds_endereco_1\"])\n"
   ]
  },
  {
   "cell_type": "code",
   "execution_count": 0,
   "metadata": {
    "application/vnd.databricks.v1+cell": {
     "cellMetadata": {
      "byteLimit": 2048000,
      "rowLimit": 10000
     },
     "inputWidgets": {},
     "nuid": "b7e3c8d9-7dcf-48a1-a9cf-cdc3d3a66954",
     "showTitle": false,
     "tableResultSettingsMap": {},
     "title": ""
    }
   },
   "outputs": [],
   "source": [
    "df_cep = df_localizacao.withColumn(\"cd_cep\", regexp_replace(df_localizacao.cd_cep,\"-\",\"\"))\n",
    "df_cep = df_cep.withColumn(\"cd_cep\", regexp_replace(df_cep.cd_cep,\" \",\"\"))\n"
   ]
  },
  {
   "cell_type": "code",
   "execution_count": 0,
   "metadata": {
    "application/vnd.databricks.v1+cell": {
     "cellMetadata": {
      "byteLimit": 2048000,
      "rowLimit": 10000
     },
     "inputWidgets": {},
     "nuid": "a42ad7c5-f19e-46b1-b8f0-e12bebd2fc27",
     "showTitle": false,
     "tableResultSettingsMap": {},
     "title": ""
    }
   },
   "outputs": [],
   "source": [
    "df_padronizar_nomeCervejaria = df_cep.withColumn(\"nm_cervejaria\", trim(initcap(df_cep.nm_cervejaria)))\n"
   ]
  },
  {
   "cell_type": "code",
   "execution_count": 0,
   "metadata": {
    "application/vnd.databricks.v1+cell": {
     "cellMetadata": {
      "byteLimit": 2048000,
      "rowLimit": 10000
     },
     "inputWidgets": {},
     "nuid": "db57938d-20a8-44e6-8b0e-de54a520069d",
     "showTitle": false,
     "tableResultSettingsMap": {},
     "title": ""
    }
   },
   "outputs": [],
   "source": [
    "df_reordenar = df_padronizar_nomeCervejaria.select(\n",
    "    \"id_cervejaria\",\n",
    "    \"nm_cervejaria\",\n",
    "    \"nm_tipo_cervejaria\",\n",
    "    \"Esta_Ativa?\",\n",
    "    \"Localizacao\",\n",
    "    \"ds_endereco_1\",\n",
    "    \"ds_endereco_2\",\n",
    "    \"ds_endereco_3\",\n",
    "    \"nr_longitude\",\n",
    "    \"nr_latitude\",\n",
    "    \"nr_telefone\",\n",
    "    \"Possui_Site?\",\n",
    "    \"ds_site_web\",\n",
    "    \"cd_cep\",\n",
    "    \"nm_pais\",\n",
    "    \"nm_estado\",\n",
    "    \"nm_cidade\",\n",
    "    \"fonte_dados\",\n",
    "    \"data_ingestao\"\n",
    ")\n",
    "df_reordenar.repartition(10,\"Localizacao\")\n",
    "display(df_reordenar)\n"
   ]
  },
  {
   "cell_type": "code",
   "execution_count": 0,
   "metadata": {
    "application/vnd.databricks.v1+cell": {
     "cellMetadata": {
      "byteLimit": 2048000,
      "rowLimit": 10000
     },
     "inputWidgets": {},
     "nuid": "219d058f-eade-44af-ba6b-909b812b263d",
     "showTitle": false,
     "tableResultSettingsMap": {},
     "title": ""
    }
   },
   "outputs": [],
   "source": [
    "df_prata = (\n",
    "    df_reordenar.write.format(\"delta\")\n",
    "    .mode(\"overwrite\")\n",
    "    .partitionBy(\"Localizacao\")\n",
    "    .save(f\"{camada_prata}cervejarias\")\n",
    ")"
   ]
  }
 ],
 "metadata": {
  "application/vnd.databricks.v1+notebook": {
   "computePreferences": null,
   "dashboards": [],
   "environmentMetadata": {
    "base_environment": "",
    "environment_version": "2"
   },
   "language": "python",
   "notebookMetadata": {
    "mostRecentlyExecutedCommandWithImplicitDF": {
     "commandId": 5284713860023657,
     "dataframes": [
      "_sqldf"
     ]
    },
    "pythonIndentUnit": 4
   },
   "notebookName": "Transformando_dados_Prata",
   "widgets": {}
  },
  "language_info": {
   "name": "python"
  }
 },
 "nbformat": 4,
 "nbformat_minor": 0
}
