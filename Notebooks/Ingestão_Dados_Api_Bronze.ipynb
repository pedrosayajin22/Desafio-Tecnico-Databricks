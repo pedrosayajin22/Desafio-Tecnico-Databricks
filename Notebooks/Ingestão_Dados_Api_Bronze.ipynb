{
 "cells": [
  {
   "cell_type": "markdown",
   "metadata": {
    "application/vnd.databricks.v1+cell": {
     "cellMetadata": {
      "byteLimit": 2048000,
      "rowLimit": 10000
     },
     "inputWidgets": {},
     "nuid": "3a215130-df49-41f1-8812-b0e9ddebf0a3",
     "showTitle": false,
     "tableResultSettingsMap": {},
     "title": ""
    }
   },
   "source": [
    "<small style=\"font-size:10px;\">\n",
    "\n",
    "# 📌 Camada Bronze\n",
    "\n",
    "### 📖 Importação de Bibliotecas\n",
    "Carrega as bibliotecas necessárias para ingestão, processamento e armazenamento dos dados, incluindo **requests (requisição de API) e PySpark (tratamento e armazenamento).**\n",
    "\n",
    "### 📖 Execução de Variáveis Globais\n",
    "Executa o notebook `Variaveis`, que contém **caminhos do Data Lake** e outras configurações globais usadas no pipeline.\n",
    "\n",
    "### 📖 Requisição de Dados da API\n",
    "Extrai os dados da API Open Brewery DB com **tratamento de erros e tentativas automáticas** (`retries`), garantindo que falhas temporárias não interrompam o pipeline.\n",
    "\n",
    "### 📖 Implementação de Paginação na API\n",
    "A API retorna **dados paginados** com um limite padrão de **50 registros por requisição**. Para garantir que **todos os dados sejam extraídos**, foi implementada a paginação automática até que **não haja mais páginas disponíveis**.  \n",
    "**📌 Resultado:** o volume de dados aumentou de **50 para 7407 registros na Bronze**.\n",
    "\n",
    "### 📖 Definição do Schema\n",
    "Define a **estrutura dos dados** no Spark usando `StructType`, garantindo **consistência e validação de tipos**. Isso melhora a performance e evita problemas com inferência de schema.\n",
    "\n",
    "### 📖 Tratamento de Erros e Logs\n",
    "Implementa um **sistema de logs no Delta Lake**, capturando erros ocorridos durante a ingestão. Caso a requisição falhe, os erros são **registrados para auditoria futura**.\n",
    "\n",
    "### 📖 Adição de Timestamp de Ingestão\n",
    "Adiciona a coluna `data_ingestao` ao DataFrame com **`current_timestamp()`**, permitindo **monitorar quando os dados foram carregados**.\n",
    "\n",
    "### 📖 Salvamento na Camada Bronze\n",
    "Os dados são salvos no **Delta Lake**, utilizando `overwrite` para manter apenas a versão mais recente e **`mergeSchema=True` para compatibilidade com novas colunas**.\n",
    "\n",
    "</small>\n"
   ]
  },
  {
   "cell_type": "code",
   "execution_count": 0,
   "metadata": {
    "application/vnd.databricks.v1+cell": {
     "cellMetadata": {
      "byteLimit": 2048000,
      "rowLimit": 10000
     },
     "inputWidgets": {},
     "nuid": "25f512d6-7c8c-4195-9b95-9bcbc43e8126",
     "showTitle": false,
     "tableResultSettingsMap": {},
     "title": ""
    }
   },
   "outputs": [],
   "source": [
    "import requests\n",
    "import time\n",
    "import traceback\n",
    "from pyspark.sql.functions import current_timestamp\n",
    "from pyspark.sql.types import StructType, StructField, StringType\n",
    "import uuid\n",
    "from pyspark.sql.utils import AnalysisException\n",
    "\n",
    "\n"
   ]
  },
  {
   "cell_type": "code",
   "execution_count": 0,
   "metadata": {
    "application/vnd.databricks.v1+cell": {
     "cellMetadata": {
      "byteLimit": 2048000,
      "rowLimit": 10000
     },
     "inputWidgets": {},
     "nuid": "95cec978-bc05-42bb-9ad3-74f4a89d2c8a",
     "showTitle": false,
     "tableResultSettingsMap": {},
     "title": ""
    }
   },
   "outputs": [],
   "source": [
    "%run \"./Variaveis\""
   ]
  },
  {
   "cell_type": "code",
   "execution_count": 0,
   "metadata": {
    "application/vnd.databricks.v1+cell": {
     "cellMetadata": {
      "byteLimit": 2048000,
      "rowLimit": 10000
     },
     "inputWidgets": {},
     "nuid": "25520771-0e7c-401b-8965-99efe35eb4a7",
     "showTitle": false,
     "tableResultSettingsMap": {},
     "title": ""
    }
   },
   "outputs": [],
   "source": [
    "def requisicao_data(url, per_page=100, maximo_tentativas=3, delay=5):\n",
    "    dados_totais = []\n",
    "    page = 1 \n",
    "    while True: \n",
    "        url = f\"{url}?per_page={per_page}&page={page}\"\n",
    "\n",
    "        for tentativa in range(maximo_tentativas):\n",
    "            try:\n",
    "                response = requests.get(url, timeout=10)\n",
    "                \n",
    "                if response.raise_for_status():\n",
    "                    print(f\"Erro na requisição: {response.status_code}\")\n",
    "                    return dados_totais  \n",
    "\n",
    "                  \n",
    "\n",
    "                dados_atuais = response.json()\n",
    "\n",
    "                if not dados_atuais:  \n",
    "                    return dados_totais\n",
    "\n",
    "                dados_totais.extend(dados_atuais)  \n",
    "                page += 1  \n",
    "                break  \n",
    "\n",
    "            except requests.exceptions.RequestException as e:\n",
    "                print(f\"Erro na requisição: {e}, nova tentativa {tentativa + 1}\")\n",
    "                time.sleep(delay)\n",
    "\n",
    "        else:\n",
    "            raise Exception(\"Erro ao criar DataFrame após múltiplas tentativas\")"
   ]
  },
  {
   "cell_type": "code",
   "execution_count": 0,
   "metadata": {
    "application/vnd.databricks.v1+cell": {
     "cellMetadata": {
      "byteLimit": 2048000,
      "rowLimit": 10000
     },
     "inputWidgets": {},
     "nuid": "145e9a0a-5af1-4981-b1f6-bd8f68ac2685",
     "showTitle": false,
     "tableResultSettingsMap": {},
     "title": ""
    }
   },
   "outputs": [],
   "source": [
    "schema_Cervejaria = StructType([\n",
    "    StructField(\"id\",StringType(),False),\n",
    "    StructField(\"name\",StringType(),False),\n",
    "    StructField(\"brewery_type\",StringType(),False),\n",
    "    StructField(\"address_1\",StringType(),True),\n",
    "    StructField(\"address_2\",StringType(),True),\n",
    "    StructField(\"address_3\",StringType(),True),\n",
    "    StructField(\"city\",StringType(),False),\n",
    "    StructField(\"state_province\",StringType(),False),\n",
    "    StructField(\"postal_code\",StringType(),False),\n",
    "    StructField(\"country\",StringType(),False),\n",
    "    StructField(\"longitude\",StringType(),True),\n",
    "    StructField(\"latitude\",StringType(),True),\n",
    "    StructField(\"phone\",StringType(),True),\n",
    "    StructField(\"website_url\",StringType(),True),\n",
    "    StructField(\"state\",StringType(),True),\n",
    "    StructField(\"street\",StringType(),True),\n",
    "\n",
    "])"
   ]
  },
  {
   "cell_type": "code",
   "execution_count": 0,
   "metadata": {
    "application/vnd.databricks.v1+cell": {
     "cellMetadata": {
      "byteLimit": 2048000,
      "rowLimit": 10000
     },
     "inputWidgets": {},
     "nuid": "5ddbf17e-9b3f-4050-9235-59e30b5b4b4c",
     "showTitle": false,
     "tableResultSettingsMap": {},
     "title": ""
    }
   },
   "outputs": [],
   "source": [
    "\n",
    "caminho_erros_logs = f\"{camada_bronze}erros_logs\"\n",
    "url = \"https://api.openbrewerydb.org/breweries\"\n",
    "\n",
    "erros = []\n",
    "\n",
    "try:\n",
    "    dados = requisicao_data(url)\n",
    "    df_spark = spark.createDataFrame(dados, schema=schema_Cervejaria)\n",
    "    print(\"DataFrame criado com sucesso\")\n",
    "\n",
    "except Exception as e:\n",
    "    erro_id = str(uuid.uuid4()) \n",
    "    erro = str(e)\n",
    "    hora_erro = time.strftime(\"%Y-%m-%d %H:%M:%S\")\n",
    "    trace = traceback.format_exc()\n",
    "\n",
    "    erros.append((erro_id, \"Camada Bronze\", erro, trace, hora_erro))\n",
    "\n",
    "    df_novo_erro = spark.createDataFrame(erros, [\"id\", \"camada\", \"erro\", \"trace\", \"data_hora\"])\n",
    "\n",
    "    try:\n",
    "        df_logs_existentes = spark.read.format(\"delta\").load(caminho_erros_logs)\n",
    "\n",
    "        if df_logs_existentes.count() > 0 :\n",
    "            df_logs_erros = df_logs_existentes.union(df_novo_erro)\n",
    "        else:\n",
    "            df_logs_erros = df_novo_erro\n",
    "\n",
    "\n",
    "    except AnalysisException:\n",
    "        df_logs_erros = df_novo_erro\n",
    "\n",
    "    display(df_logs_erros)\n",
    "\n",
    "    df_logs_erros.write.format(\"delta\").mode(\"append\").option(\"mergeSchema\", \"true\").save(caminho_erros_logs)\n"
   ]
  },
  {
   "cell_type": "code",
   "execution_count": 0,
   "metadata": {
    "application/vnd.databricks.v1+cell": {
     "cellMetadata": {
      "byteLimit": 2048000,
      "rowLimit": 10000
     },
     "inputWidgets": {},
     "nuid": "6f471c43-4f93-43e7-bce6-b0c2ccd72299",
     "showTitle": false,
     "tableResultSettingsMap": {},
     "title": ""
    }
   },
   "outputs": [],
   "source": [
    "df_snake = df_spark\\\n",
    "    .withColumnRenamed(\"id\",\"id_cervejaria\") \\\n",
    "    .withColumnRenamed(\"name\",\"nm_cervejaria\") \\\n",
    "    .withColumnRenamed(\"brewery_type\",\"nm_tipo_cervejaria\") \\\n",
    "    .withColumnRenamed(\"address_1\",\"ds_endereco_1\") \\\n",
    "    .withColumnRenamed(\"address_2\",\"ds_endereco_2\") \\\n",
    "    .withColumnRenamed(\"address_3\",\"ds_endereco_3\") \\\n",
    "    .withColumnRenamed(\"city\",\"nm_cidade\") \\\n",
    "    .withColumnRenamed(\"state_province\",\"nm_estado\") \\\n",
    "    .withColumnRenamed(\"postal_code\",\"cd_cep\") \\\n",
    "    .withColumnRenamed(\"country\",\"nm_pais\") \\\n",
    "    .withColumnRenamed(\"longitude\",\"nr_longitude\") \\\n",
    "    .withColumnRenamed(\"latitude\",\"nr_latitude\") \\\n",
    "    .withColumnRenamed(\"phone\",\"nr_telefone\") \\\n",
    "    .withColumnRenamed(\"website_url\",\"ds_site_web\") \\\n",
    "    .withColumnRenamed(\"state\",\"nm_estado_repetido\") \\\n",
    "    .withColumnRenamed(\"street\",\"nm_rua\")\n",
    "\n",
    " \n"
   ]
  },
  {
   "cell_type": "code",
   "execution_count": 0,
   "metadata": {
    "application/vnd.databricks.v1+cell": {
     "cellMetadata": {
      "byteLimit": 2048000,
      "rowLimit": 10000
     },
     "inputWidgets": {},
     "nuid": "074f4fc1-2d25-468f-adda-df6d7e75197f",
     "showTitle": false,
     "tableResultSettingsMap": {},
     "title": ""
    }
   },
   "outputs": [],
   "source": [
    "df_dataIngestao = df_snake.withColumn(\"data_ingestao\", current_timestamp())\n"
   ]
  },
  {
   "cell_type": "code",
   "execution_count": 0,
   "metadata": {
    "application/vnd.databricks.v1+cell": {
     "cellMetadata": {
      "byteLimit": 2048000,
      "rowLimit": 10000
     },
     "inputWidgets": {},
     "nuid": "b1bf0c6b-bba0-4534-9e84-4fc289443a9d",
     "showTitle": false,
     "tableResultSettingsMap": {},
     "title": ""
    }
   },
   "outputs": [],
   "source": [
    "df_dataIngestao.write.format(\"delta\").mode(\"overwrite\").option(\"mergeSchema\", \"true\").save(f\"{camada_bronze}cervejarias\")\n"
   ]
  },
  {
   "cell_type": "code",
   "execution_count": 0,
   "metadata": {
    "application/vnd.databricks.v1+cell": {
     "cellMetadata": {
      "byteLimit": 2048000,
      "rowLimit": 10000
     },
     "inputWidgets": {},
     "nuid": "da8c2aa1-1da2-4339-9af2-bffb71491ba1",
     "showTitle": false,
     "tableResultSettingsMap": {},
     "title": ""
    }
   },
   "outputs": [],
   "source": [
    "display(df_dataIngestao)"
   ]
  }
 ],
 "metadata": {
  "application/vnd.databricks.v1+notebook": {
   "computePreferences": null,
   "dashboards": [],
   "environmentMetadata": {
    "base_environment": "",
    "environment_version": "2"
   },
   "language": "python",
   "notebookMetadata": {
    "pythonIndentUnit": 4
   },
   "notebookName": "Ingestão_Dados_Api_Bronze",
   "widgets": {}
  },
  "language_info": {
   "name": "python"
  }
 },
 "nbformat": 4,
 "nbformat_minor": 0
}
